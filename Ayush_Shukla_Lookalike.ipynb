{
 "cells": [
  {
   "cell_type": "code",
   "execution_count": 2,
   "id": "5a789762-dcc9-4431-afe3-f6373bfb19f8",
   "metadata": {},
   "outputs": [],
   "source": [
    "import pandas as pd\n",
    "import numpy as np\n",
    "from sklearn.preprocessing import MinMaxScaler\n",
    "from sklearn.metrics.pairwise import cosine_similarity\n"
   ]
  },
  {
   "cell_type": "code",
   "execution_count": 3,
   "id": "120c67ba-ef4a-459c-aeee-7d438c674718",
   "metadata": {},
   "outputs": [
    {
     "name": "stdout",
     "output_type": "stream",
     "text": [
      "  CustomerID        CustomerName         Region  SignupDate\n",
      "0      C0001    Lawrence Carroll  South America  2022-07-10\n",
      "1      C0002      Elizabeth Lutz           Asia  2022-02-13\n",
      "2      C0003      Michael Rivera  South America  2024-03-07\n",
      "3      C0004  Kathleen Rodriguez  South America  2022-10-09\n",
      "4      C0005         Laura Weber           Asia  2022-08-15\n",
      "  ProductID              ProductName     Category   Price\n",
      "0      P001     ActiveWear Biography        Books  169.30\n",
      "1      P002    ActiveWear Smartwatch  Electronics  346.30\n",
      "2      P003  ComfortLiving Biography        Books   44.12\n",
      "3      P004            BookWorld Rug   Home Decor   95.69\n",
      "4      P005          TechPro T-Shirt     Clothing  429.31\n",
      "  TransactionID CustomerID ProductID      TransactionDate  Quantity  \\\n",
      "0        T00001      C0199      P067  2024-08-25 12:38:23         1   \n",
      "1        T00112      C0146      P067  2024-05-27 22:23:54         1   \n",
      "2        T00166      C0127      P067  2024-04-25 07:38:55         1   \n",
      "3        T00272      C0087      P067  2024-03-26 22:55:37         2   \n",
      "4        T00363      C0070      P067  2024-03-21 15:10:10         3   \n",
      "\n",
      "   TotalValue   Price  \n",
      "0      300.68  300.68  \n",
      "1      300.68  300.68  \n",
      "2      300.68  300.68  \n",
      "3      601.36  300.68  \n",
      "4      902.04  300.68  \n"
     ]
    }
   ],
   "source": [
    "# Load datasets\n",
    "customers = pd.read_csv('Customers.csv')\n",
    "products = pd.read_csv('Products.csv')\n",
    "transactions = pd.read_csv('Transactions.csv')\n",
    "\n",
    "# Display a quick overview\n",
    "print(customers.head())\n",
    "print(products.head())\n",
    "print(transactions.head())\n"
   ]
  },
  {
   "cell_type": "code",
   "execution_count": 4,
   "id": "806a7aee-8438-47c9-82bf-bb837a4591ea",
   "metadata": {},
   "outputs": [
    {
     "name": "stdout",
     "output_type": "stream",
     "text": [
      "  CustomerID  TotalSpend  UniqueProducts  TransactionCount\n",
      "0      C0001     3354.52               5                 5\n",
      "1      C0002     1862.74               4                 4\n",
      "2      C0003     2725.38               4                 4\n",
      "3      C0004     5354.88               8                 8\n",
      "4      C0005     2034.24               3                 3\n"
     ]
    }
   ],
   "source": [
    "# Merge datasets to create a comprehensive table\n",
    "merged_data = transactions.merge(customers, on='CustomerID').merge(products, on='ProductID')\n",
    "\n",
    "# Feature engineering: Create customer-specific features\n",
    "customer_summary = merged_data.groupby('CustomerID').agg({\n",
    "    'TotalValue': 'sum',               # Total spend\n",
    "    'ProductID': lambda x: x.nunique(), # Unique products purchased\n",
    "    'TransactionDate': 'count'          # Total number of transactions\n",
    "}).rename(columns={\n",
    "    'TotalValue': 'TotalSpend',\n",
    "    'ProductID': 'UniqueProducts',\n",
    "    'TransactionDate': 'TransactionCount'\n",
    "}).reset_index()\n",
    "\n",
    "# Display the processed customer summary\n",
    "print(customer_summary.head())\n"
   ]
  },
  {
   "cell_type": "code",
   "execution_count": 5,
   "id": "375d82ff-e674-4f35-a18b-5611ea1fee82",
   "metadata": {},
   "outputs": [
    {
     "name": "stdout",
     "output_type": "stream",
     "text": [
      "   TotalSpend  UniqueProducts  TransactionCount CustomerID\n",
      "0    0.308942        0.444444               0.4      C0001\n",
      "1    0.168095        0.333333               0.3      C0002\n",
      "2    0.249541        0.333333               0.3      C0003\n",
      "3    0.497806        0.777778               0.7      C0004\n",
      "4    0.184287        0.222222               0.2      C0005\n"
     ]
    }
   ],
   "source": [
    "# Normalize the numerical features using MinMaxScaler\n",
    "scaler = MinMaxScaler()\n",
    "scaled_features = scaler.fit_transform(customer_summary[['TotalSpend', 'UniqueProducts', 'TransactionCount']])\n",
    "\n",
    "# Save the normalized features as a DataFrame\n",
    "normalized_data = pd.DataFrame(scaled_features, columns=['TotalSpend', 'UniqueProducts', 'TransactionCount'])\n",
    "normalized_data['CustomerID'] = customer_summary['CustomerID']\n",
    "\n",
    "# Display the normalized data\n",
    "print(normalized_data.head())\n"
   ]
  },
  {
   "cell_type": "code",
   "execution_count": 6,
   "id": "dd09d245-b536-493e-ba78-5fd4bcc44b33",
   "metadata": {},
   "outputs": [
    {
     "name": "stdout",
     "output_type": "stream",
     "text": [
      "CustomerID\n",
      "C0001    1.000000\n",
      "C0173    1.000000\n",
      "C0137    0.999996\n",
      "C0152    0.999992\n",
      "C0027    0.999990\n",
      "Name: C0001, dtype: float64\n"
     ]
    }
   ],
   "source": [
    "# Calculate cosine similarity between all customers\n",
    "similarity_matrix = cosine_similarity(scaled_features)\n",
    "\n",
    "# Create a DataFrame for better visualization\n",
    "similarity_df = pd.DataFrame(similarity_matrix, index=customer_summary['CustomerID'], columns=customer_summary['CustomerID'])\n",
    "\n",
    "# Example: View the similarity scores for the first customer\n",
    "print(similarity_df.iloc[0].sort_values(ascending=False).head(5))\n"
   ]
  },
  {
   "cell_type": "code",
   "execution_count": 7,
   "id": "734ca5b2-2f42-4193-8b4c-083a30e3e193",
   "metadata": {},
   "outputs": [
    {
     "name": "stdout",
     "output_type": "stream",
     "text": [
      "[('C0173', 1.0), ('C0137', 1.0), ('C0152', 1.0)]\n"
     ]
    }
   ],
   "source": [
    "# Find the top 3 similar customers for each target customer (C0001 to C0020)\n",
    "lookalikes = {}\n",
    "\n",
    "for i, customer in enumerate(customer_summary['CustomerID'][:20]):  # First 20 customers\n",
    "    # Get similarity scores for the current customer\n",
    "    similarities = list(enumerate(similarity_matrix[i]))\n",
    "    # Sort by similarity score (highest to lowest) and exclude the customer itself\n",
    "    sorted_similarities = sorted(similarities, key=lambda x: -x[1])[1:4]\n",
    "    # Store top 3 similar customers and their scores\n",
    "    lookalikes[customer] = [(customer_summary['CustomerID'][idx], round(score, 3)) for idx, score in sorted_similarities]\n",
    "\n",
    "# Display the lookalike recommendations for one customer\n",
    "print(lookalikes['C0001'])  # Replace 'C0001' with any customer ID in the range\n"
   ]
  },
  {
   "cell_type": "code",
   "execution_count": 9,
   "id": "0e9eecba-1ef6-4c4a-9342-e7d62e3ee962",
   "metadata": {},
   "outputs": [
    {
     "name": "stdout",
     "output_type": "stream",
     "text": [
      "Lookalike recommendations saved to Lookalike.csv\n"
     ]
    }
   ],
   "source": [
    "# Prepare data for CSV export\n",
    "lookalike_data = []\n",
    "\n",
    "for customer, similar_customers in lookalikes.items():\n",
    "    row = [customer]\n",
    "    for similar_customer, score in similar_customers:\n",
    "        row += [similar_customer, score]\n",
    "    lookalike_data.append(row)\n",
    "\n",
    "# Save to Lookalike.csv\n",
    "lookalike_df = pd.DataFrame(lookalike_data, columns=[\n",
    "    'CustomerID', \n",
    "    'Lookalike_1', 'Score_1', \n",
    "    'Lookalike_2', 'Score_2', \n",
    "    'Lookalike_3', 'Score_3'\n",
    "])\n",
    "lookalike_df.to_csv('Ayush_Shukla_Lookalike.csv', index=False)\n",
    "\n",
    "print(\"Lookalike recommendations saved to Lookalike.csv\")\n"
   ]
  },
  {
   "cell_type": "code",
   "execution_count": null,
   "id": "c1e7cd18-94bb-40aa-a4ca-d5f5db9f08d3",
   "metadata": {},
   "outputs": [],
   "source": []
  }
 ],
 "metadata": {
  "kernelspec": {
   "display_name": "Python 3 (ipykernel)",
   "language": "python",
   "name": "python3"
  },
  "language_info": {
   "codemirror_mode": {
    "name": "ipython",
    "version": 3
   },
   "file_extension": ".py",
   "mimetype": "text/x-python",
   "name": "python",
   "nbconvert_exporter": "python",
   "pygments_lexer": "ipython3",
   "version": "3.11.7"
  }
 },
 "nbformat": 4,
 "nbformat_minor": 5
}
